{
 "cells": [
  {
   "cell_type": "code",
   "execution_count": 1,
   "metadata": {
    "ExecuteTime": {
     "end_time": "2019-07-24T12:02:15.645756Z",
     "start_time": "2019-07-24T12:02:14.716243Z"
    }
   },
   "outputs": [],
   "source": [
    "import os\n",
    "import numpy as np\n",
    "from matplotlib import pyplot\n",
    "from scipy import optimize\n",
    "from scipy.io import loadmat\n",
    "\n",
    "%matplotlib inline"
   ]
  },
  {
   "cell_type": "code",
   "execution_count": 15,
   "metadata": {
    "ExecuteTime": {
     "end_time": "2019-07-26T01:53:41.741069Z",
     "start_time": "2019-07-26T01:53:41.632342Z"
    },
    "code_folding": []
   },
   "outputs": [],
   "source": [
    "# input data to X,y\n",
    "# data form: X(5000,400),y(5000,)\n",
    "# 10 labels, from 1 to 10 (note that we have mapped \"0\" to label 10)\n",
    "num_labels = 10\n",
    "\n",
    "# training data stored in arrays X, y\n",
    "# every row of X is a training sample\n",
    "path = 'C:\\\\Users\\\\39410\\\\Desktop\\\\大创项目\\\\吴恩达机器学习算法数据\\\\machine-learning-ex3\\\\ex3\\\\ex3data1.mat'\n",
    "data = loadmat(path)\n",
    "X, y = data['X'], data['y'].ravel()\n",
    "\n",
    "# set the zero digit to 0, rather than its mapped 10 in this dataset\n",
    "# This is an artifact due to the fact that this dataset was used in \n",
    "# MATLAB where there is no index 0\n",
    "y[y == 10] = 0\n",
    "\n",
    "# number of samples\n",
    "m = y.size"
   ]
  },
  {
   "cell_type": "code",
   "execution_count": 3,
   "metadata": {
    "ExecuteTime": {
     "end_time": "2019-07-24T12:02:15.795358Z",
     "start_time": "2019-07-24T12:02:15.786383Z"
    },
    "code_folding": [
     0
    ]
   },
   "outputs": [],
   "source": [
    "def sigmoid(z):\n",
    "    \"\"\"\n",
    "    Computes the sigmoid of z.\n",
    "    \"\"\"\n",
    "    return 1.0 / (1.0 + np.exp(-z))"
   ]
  },
  {
   "cell_type": "code",
   "execution_count": 4,
   "metadata": {
    "ExecuteTime": {
     "end_time": "2019-07-24T12:02:15.858189Z",
     "start_time": "2019-07-24T12:02:15.799349Z"
    },
    "code_folding": []
   },
   "outputs": [],
   "source": [
    "def lrCostFunction(theta, X, y, lambda_):\n",
    "    #此处的X和theta是可以向量化的形式，即X[0] = 1,theta和X都是n+1维\n",
    "    #Initialize some useful values\n",
    "    m = y.size\n",
    "\n",
    "    # convert labels to ints if their type is bool\n",
    "    if y.dtype == bool:\n",
    "        y = y.astype(int)  #将多分类器改造为二分类器\n",
    "\n",
    "    # You need to return the following variables correctly\n",
    "    J = 0\n",
    "    grad = np.zeros(theta.shape)\n",
    "    h = sigmoid(np.dot(X, theta))\n",
    "    temp = theta\n",
    "    temp[0] = 0  #不对theta0正则化 # 此时theta[0]也被赋值为0\n",
    "\n",
    "    J = ((np.dot(y, np.log(h))) + np.dot((1 - y), np.log(1 - h))) / (-m)\n",
    "    J += (lambda_ / (2 * m)) * np.sum(temp[1:]**2)\n",
    "\n",
    "    X_t = np.transpose(X)\n",
    "    grad = np.dot(X_t, h - y) / m\n",
    "    grad += (lambda_ / m) * temp\n",
    "\n",
    "    return J, grad"
   ]
  },
  {
   "cell_type": "code",
   "execution_count": 18,
   "metadata": {
    "ExecuteTime": {
     "end_time": "2019-07-26T01:54:49.616078Z",
     "start_time": "2019-07-26T01:54:49.611083Z"
    },
    "code_folding": []
   },
   "outputs": [],
   "source": [
    "# # test values:theta_t,X_t,y_t,lambda_t\n",
    "# # test values for the parameters theta\n",
    "# theta_t = np.array([-2, -1, 1, 2], dtype=float)\n",
    "\n",
    "# # test values for the inputs\n",
    "# X_t = np.concatenate([np.ones((5, 1)), np.arange(1, 16).reshape(5, 3, order='F')/10.0], axis=1)\n",
    "\n",
    "# # test values for the labels\n",
    "# y_t = np.array([1, 0, 1, 0, 1])\n",
    "\n",
    "# # test value for the regularization parameter\n",
    "# lambda_t = 3"
   ]
  },
  {
   "cell_type": "code",
   "execution_count": 17,
   "metadata": {
    "ExecuteTime": {
     "end_time": "2019-07-26T01:54:48.046829Z",
     "start_time": "2019-07-26T01:54:48.039878Z"
    },
    "code_folding": []
   },
   "outputs": [],
   "source": [
    "# # test lrCostFunction\n",
    "# # theta = np.zeros(400)\n",
    "# J, grad = lrCostFunction(theta_t, X_t, y_t, lambda_t)\n",
    "\n",
    "# print('Cost         : {:.6f}'.format(J))\n",
    "# print('Expected cost: 2.534819')\n",
    "# print('-----------------------')\n",
    "# print('Gradients:')\n",
    "# print(' [{:.6f}, {:.6f}, {:.6f}, {:.6f}]'.format(*grad))\n",
    "# print('Expected gradients:')\n",
    "# print(' [0.146561, -0.548558, 0.724722, 1.398003]');"
   ]
  },
  {
   "cell_type": "code",
   "execution_count": 28,
   "metadata": {
    "ExecuteTime": {
     "end_time": "2019-07-26T01:59:29.392024Z",
     "start_time": "2019-07-26T01:59:29.356121Z"
    },
    "code_folding": []
   },
   "outputs": [],
   "source": [
    "def oneVsAll(X, y, num_labels, lambda_):\n",
    "    m, n = X.shape\n",
    "    all_theta = np.zeros((num_labels, n + 1))\n",
    "    X = np.concatenate([np.ones((m, 1)), X], axis=1)\n",
    "    \n",
    "    initial_theta = np.zeros(n + 1)\n",
    "    options = {'maxiter': 100}\n",
    "    for c in range(num_labels):\n",
    "        res = optimize.minimize(\n",
    "            lrCostFunction,  #fun\n",
    "            initial_theta,  # 传入fun的第一个参数\n",
    "            (X, (y==c), lambda_),  #传入fun的第二、三、四个参数 \n",
    "            jac=True,  # 表示fun返回J和J的偏导\n",
    "            method='BFGS',# 优化方法\n",
    "            options=options)  #表示最大迭代次数50次\n",
    "        #此时的res.x 表示优化后的theta，res.fun表示cost\n",
    "        all_theta[c] = res.x\n",
    "        print(\"cost = \" + str(res.fun))\n",
    "    #返回每一个分类器的最优参数\n",
    "    # all_theta.shape = (10,401)\n",
    "    return all_theta"
   ]
  },
  {
   "cell_type": "code",
   "execution_count": 26,
   "metadata": {
    "ExecuteTime": {
     "end_time": "2019-07-26T01:59:27.230317Z",
     "start_time": "2019-07-26T01:59:08.563199Z"
    },
    "code_folding": [],
    "scrolled": true
   },
   "outputs": [
    {
     "name": "stdout",
     "output_type": "stream",
     "text": [
      "0.014256854701948351\n",
      "0.02008050603819196\n",
      "0.061315507805637375\n",
      "0.06637715999382666\n",
      "0.04361880495435977\n",
      "0.06729450531997413\n",
      "0.027795878627094685\n",
      "0.03965599479545483\n",
      "0.08683760475397757\n",
      "0.08147271895363528\n",
      "(10, 401)\n"
     ]
    }
   ],
   "source": [
    "#call oneVsAll initial lambda_,all_theta\n",
    "lambda_ = 0.3\n",
    "all_theta = oneVsAll(X, y, num_labels, lambda_)\n",
    "print(all_theta.shape)"
   ]
  },
  {
   "cell_type": "code",
   "execution_count": 29,
   "metadata": {
    "ExecuteTime": {
     "end_time": "2019-07-26T02:01:07.641901Z",
     "start_time": "2019-07-26T02:01:07.616968Z"
    },
    "code_folding": []
   },
   "outputs": [],
   "source": [
    "def predictOneVsAll(all_theta, X):\n",
    "    m = X.shape[0]\n",
    "    num_labels = all_theta.shape[0]\n",
    "    p = np.zeros(m)\n",
    "    X = np.concatenate([np.ones((m, 1)), X], axis=1)\n",
    "    temp = np.zeros(num_labels)\n",
    "    \n",
    "    for i in range(m):\n",
    "        p[i] = np.argmax(sigmoid(np.dot(all_theta,X[i])))\n",
    "    \n",
    "    # 返回所有样本的预测值\n",
    "    return p"
   ]
  },
  {
   "cell_type": "code",
   "execution_count": 10,
   "metadata": {
    "ExecuteTime": {
     "end_time": "2019-07-24T12:02:36.163932Z",
     "start_time": "2019-07-24T12:02:36.035275Z"
    },
    "code_folding": [],
    "scrolled": true
   },
   "outputs": [
    {
     "name": "stdout",
     "output_type": "stream",
     "text": [
      "Training Set Accuracy: 94.84%\n"
     ]
    }
   ],
   "source": [
    "# call predictOneVsAll\n",
    "pred = predictOneVsAll(all_theta, X)\n",
    "print('Training Set Accuracy: {:.2f}%'.format(np.mean(pred == y) * 100))"
   ]
  },
  {
   "cell_type": "code",
   "execution_count": 11,
   "metadata": {
    "ExecuteTime": {
     "end_time": "2019-07-24T12:02:36.190859Z",
     "start_time": "2019-07-24T12:02:36.169915Z"
    },
    "code_folding": []
   },
   "outputs": [
    {
     "name": "stdout",
     "output_type": "stream",
     "text": [
      "[[1 2 3]\n",
      " [4 5 6]]\n",
      "[0 1 2]\n",
      "[ 8 17]\n"
     ]
    }
   ],
   "source": [
    "# BLOCK OF TEST PYTHON\n",
    "x1 = np.arange(1, 7).reshape((2, 3))\n",
    "x2 = np.arange(3)\n",
    "print(x1)\n",
    "print(x2)\n",
    "print(np.dot(x1,x2))"
   ]
  },
  {
   "cell_type": "markdown",
   "metadata": {
    "heading_collapsed": true
   },
   "source": [
    "# Visualizing the data "
   ]
  },
  {
   "cell_type": "code",
   "execution_count": 12,
   "metadata": {
    "ExecuteTime": {
     "end_time": "2019-07-24T12:02:36.263664Z",
     "start_time": "2019-07-24T12:02:36.195849Z"
    },
    "code_folding": [
     0
    ],
    "hidden": true
   },
   "outputs": [],
   "source": [
    "def displayData(X, example_width=None, figsize=(10, 10)):\n",
    "    \"\"\"\n",
    "    Displays 2D data stored in X in a nice grid.\n",
    "    \"\"\"\n",
    "    # Compute rows, cols\n",
    "    if X.ndim == 2:\n",
    "        m, n = X.shape\n",
    "    elif X.ndim == 1:\n",
    "        n = X.size\n",
    "        m = 1\n",
    "        X = X[None]  # Promote to a 2 dimensional array\n",
    "    else:\n",
    "        raise IndexError('Input X should be 1 or 2 dimensional.')\n",
    "\n",
    "    example_width = example_width or int(np.round(np.sqrt(n)))\n",
    "    example_height = n / example_width\n",
    "\n",
    "    # Compute number of items to display\n",
    "    display_rows = int(np.floor(np.sqrt(m)))\n",
    "    display_cols = int(np.ceil(m / display_rows))\n",
    "\n",
    "    fig, ax_array = pyplot.subplots(display_rows, display_cols, figsize=figsize)\n",
    "    fig.subplots_adjust(wspace=0.025, hspace=0.025)\n",
    "\n",
    "    ax_array = [ax_array] if m == 1 else ax_array.ravel()\n",
    "\n",
    "    for i, ax in enumerate(ax_array):\n",
    "        ax.imshow(X[i].reshape(example_width, example_width, order='F'),\n",
    "                  cmap='Greys', extent=[0, 1, 0, 1])\n",
    "        ax.axis('off')\n"
   ]
  },
  {
   "cell_type": "code",
   "execution_count": 13,
   "metadata": {
    "ExecuteTime": {
     "end_time": "2019-07-24T12:02:43.262001Z",
     "start_time": "2019-07-24T12:02:36.270650Z"
    },
    "code_folding": [
     0
    ],
    "hidden": true
   },
   "outputs": [
    {
     "data": {
      "image/png": "[encoded data removed]",
      "text/plain": [
       "<matplotlib.figure.Figure at 0x262882da550>"
      ]
     },
     "metadata": {},
     "output_type": "display_data"
    }
   ],
   "source": [
    "# Randomly select 100 data points to display\n",
    "rand_indices = np.random.choice(m, 100, replace=False)\n",
    "sel = X[rand_indices, :]\n",
    "\n",
    "displayData(sel)"
   ]
  }
 ],
 "metadata": {
  "kernelspec": {
   "display_name": "Python 3",
   "language": "python",
   "name": "python3"
  },
  "language_info": {
   "codemirror_mode": {
    "name": "ipython",
    "version": 3
   },
   "file_extension": ".py",
   "mimetype": "text/x-python",
   "name": "python",
   "nbconvert_exporter": "python",
   "pygments_lexer": "ipython3",
   "version": "3.6.2"
  },
  "toc": {
   "base_numbering": 1,
   "nav_menu": {
    "height": "35.9774px",
    "width": "169.981px"
   },
   "number_sections": true,
   "sideBar": true,
   "skip_h1_title": false,
   "title_cell": "Table of Contents",
   "title_sidebar": "Contents",
   "toc_cell": false,
   "toc_position": {},
   "toc_section_display": true,
   "toc_window_display": false
  }
 },
 "nbformat": 4,
 "nbformat_minor": 2
}
